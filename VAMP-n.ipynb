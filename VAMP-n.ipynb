{
 "cells": [
  {
   "cell_type": "code",
   "execution_count": 1,
   "id": "1fc79720",
   "metadata": {},
   "outputs": [],
   "source": [
    "# import modules\n",
    "\n",
    "import numpy as np\n",
    "import pandas as pd\n",
    "import sys\n",
    "from scipy.linalg import sqrtm\n",
    "from sklearn.decomposition import TruncatedSVD\n",
    "from hybridCorr import matcor as hbcr"
   ]
  },
  {
   "cell_type": "code",
   "execution_count": 4,
   "id": "50242dd7",
   "metadata": {},
   "outputs": [],
   "source": [
    "# define time-lagged cannonical correlation analysis\n",
    "\n",
    "def TCCA(time_series,lag_time,periodicity=[0,0]):\n",
    "        \"\"\"\n",
    "        ----------------- Time-lagged Independent Component Analysis -----------------\n",
    "        Return:\n",
    "        Eigenvalue and Eigenvector matrices of the diagonalized time-lagged cannonical\n",
    "        correlation matrix\n",
    "        ------------------------------------------------------------------------------\n",
    "        \"\"\"\n",
    "        # Create time-lagged dataset\n",
    "        tau1 = time_series[:-lag_time,:]\n",
    "        tau2 = time_series[lag_time:,:]\n",
    "        # Calculate time-lagged hybrid correlation matrices\n",
    "        C00 = hbcr(circ=periodicity).run(tau1,tau1)\n",
    "        C01 = hbcr(circ=periodicity).run(tau1,tau2)\n",
    "        C11 = hbcr(circ=periodicity).run(tau2,tau2)\n",
    "        # Estimate Koopman operator\n",
    "        CovMat = np.matmul(np.linalg.inv(sqrtm(C00)),np.matmul(C01,np.linalg.inv(sqrtm(C11))))\n",
    "        # Singular value decomposition\n",
    "        lsv,sm,rsv = np.linalg.svd(CovMat)\n",
    "        self.tcc_Cov = CovMat\n",
    "        return lsv,sm,rsv"
   ]
  },
  {
   "cell_type": "code",
   "execution_count": 5,
   "id": "e643f3f6",
   "metadata": {},
   "outputs": [],
   "source": [
    "# define VAMP scoring system\n",
    "\n",
    "def VAMP_n(time_series,lag_time,periodicity=[0,0],N=2):\n",
    "        \"\"\"\n",
    "        ----------------- Variational Approach to Markov Process Score -----------------\n",
    "        Return:\n",
    "        Sum of the diagonal elements raised to the power n, of the diagonalized time-\n",
    "        lagged cannonical correlation matrix\n",
    "        --------------------------------------------------------------------------------\n",
    "        \"\"\"\n",
    "        # get singular value decomposed cannonical correlation matrix\n",
    "        _,Diag,_ = TCCA(time_series=time_series,lag_time=lag_time,periodicity=periodicity)\n",
    "        # extract vamp-n score\n",
    "        VAMP_n = np.sum(np.power(Diag,N))+1\n",
    "        return VAMP_n"
   ]
  },
  {
   "cell_type": "code",
   "execution_count": null,
   "id": "e8800242",
   "metadata": {},
   "outputs": [],
   "source": []
  }
 ],
 "metadata": {
  "kernelspec": {
   "display_name": "Python 3 (ipykernel)",
   "language": "python",
   "name": "python3"
  },
  "language_info": {
   "codemirror_mode": {
    "name": "ipython",
    "version": 3
   },
   "file_extension": ".py",
   "mimetype": "text/x-python",
   "name": "python",
   "nbconvert_exporter": "python",
   "pygments_lexer": "ipython3",
   "version": "3.8.3"
  }
 },
 "nbformat": 4,
 "nbformat_minor": 5
}
